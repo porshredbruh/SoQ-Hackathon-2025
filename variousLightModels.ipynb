{
  "cells": [
    {
      "cell_type": "markdown",
      "metadata": {
        "id": "yQhGGfVJ6kyz"
      },
      "source": [
        "# Считаем метрики по ETS, ARIMA, RF и их."
      ]
    },
    {
      "cell_type": "code",
      "execution_count": 13,
      "metadata": {
        "vscode": {
          "languageId": "plaintext"
        },
        "id": "SGp9remW6ky1"
      },
      "outputs": [],
      "source": [
        "import warnings\n",
        "warnings.filterwarnings(\"ignore\")\n",
        "\n",
        "import numpy as np\n",
        "import pandas as pd\n",
        "import os\n",
        "\n",
        "from statsmodels.tsa.holtwinters import ExponentialSmoothing\n",
        "from statsmodels.tsa.arima.model import ARIMA\n",
        "from sklearn.ensemble import RandomForestRegressor\n",
        "from sklearn.linear_model import Ridge\n",
        "from sklearn.metrics import mean_squared_error, mean_absolute_error"
      ]
    },
    {
      "cell_type": "code",
      "execution_count": 2,
      "metadata": {
        "vscode": {
          "languageId": "plaintext"
        },
        "id": "svQIceHZ6ky3"
      },
      "outputs": [],
      "source": [
        "RANDOM_STATE = 42\n",
        "HORIZON = 13"
      ]
    },
    {
      "cell_type": "code",
      "execution_count": 3,
      "metadata": {
        "vscode": {
          "languageId": "plaintext"
        },
        "id": "vQvSeeMN6ky3"
      },
      "outputs": [],
      "source": [
        "# --- Метрики ---\n",
        "def smape(y_true, y_pred):\n",
        "    return 100 * np.mean(2 * np.abs(y_pred - y_true) / (np.abs(y_true) + np.abs(y_pred)))\n",
        "\n",
        "def evaluate(y_true, y_pred):\n",
        "    return {\n",
        "        \"RMSE\": np.sqrt(mean_squared_error(y_true, y_pred)),\n",
        "        \"MAE\": mean_absolute_error(y_true, y_pred),\n",
        "        \"SMAPE\": smape(y_true, y_pred)\n",
        "    }"
      ]
    },
    {
      "cell_type": "markdown",
      "metadata": {
        "id": "K5_8kovH6ky3"
      },
      "source": [
        "### ETS"
      ]
    },
    {
      "cell_type": "code",
      "execution_count": 4,
      "metadata": {
        "vscode": {
          "languageId": "plaintext"
        },
        "id": "rLtoDcwI6ky4"
      },
      "outputs": [],
      "source": [
        "def forecast_ets(series, h=HORIZON):\n",
        "    best_aic = np.inf\n",
        "    best_res = None\n",
        "    configs = [\n",
        "        {'trend': 'add', 'damped_trend': True},\n",
        "        {'trend': 'add', 'damped_trend': False},\n",
        "        {'trend': None, 'damped_trend': False},\n",
        "    ]\n",
        "    for cfg in configs:\n",
        "        try:\n",
        "            model = ExponentialSmoothing(series,\n",
        "                                         trend=cfg['trend'],\n",
        "                                         damped_trend=cfg['damped_trend'],\n",
        "                                         seasonal=None,\n",
        "                                         initialization_method=\"estimated\")\n",
        "            res = model.fit(optimized=True)\n",
        "            aic = res.aic\n",
        "            if aic < best_aic:\n",
        "                best_aic = aic\n",
        "                best_res = res\n",
        "        except:\n",
        "            continue\n",
        "    if best_res is None:\n",
        "        return np.repeat(series.iloc[-1], h).astype(float)\n",
        "    return best_res.forecast(h).values"
      ]
    },
    {
      "cell_type": "markdown",
      "metadata": {
        "id": "ai4KtqbJ6ky4"
      },
      "source": [
        "### ARIMA"
      ]
    },
    {
      "cell_type": "code",
      "execution_count": 5,
      "metadata": {
        "vscode": {
          "languageId": "plaintext"
        },
        "id": "kz6lb25_6ky4"
      },
      "outputs": [],
      "source": [
        "def forecast_arima(series, h=HORIZON):\n",
        "    best_aic = np.inf\n",
        "    best_model = None\n",
        "    s = series.astype(float)\n",
        "    if len(s) < 10:\n",
        "        return np.repeat(s.iloc[-1], h).astype(float)\n",
        "    for p in range(0, 3):\n",
        "        for d in range(0, 2):\n",
        "            for q in range(0, 3):\n",
        "                try:\n",
        "                    model = ARIMA(s, order=(p,d,q))\n",
        "                    res = model.fit()\n",
        "                    if res.aic < best_aic:\n",
        "                        best_aic = res.aic\n",
        "                        best_model = res\n",
        "                except:\n",
        "                    continue\n",
        "    if best_model is None:\n",
        "        return np.repeat(s.iloc[-1], h).astype(float)\n",
        "    return best_model.forecast(steps=h).values"
      ]
    },
    {
      "cell_type": "markdown",
      "metadata": {
        "id": "b0Ew4_sc6ky5"
      },
      "source": [
        "### RandomForest recursive"
      ]
    },
    {
      "cell_type": "code",
      "execution_count": 6,
      "metadata": {
        "vscode": {
          "languageId": "plaintext"
        },
        "id": "bLq47hb46ky5"
      },
      "outputs": [],
      "source": [
        "def make_lag_features(df_close, max_lag=7):\n",
        "    df = pd.DataFrame({'close': df_close})\n",
        "    for lag in range(1, max_lag+1):\n",
        "        df[f'lag_{lag}'] = df['close'].shift(lag)\n",
        "    df['roll_mean_3'] = df['close'].shift(1).rolling(3, min_periods=1).mean()\n",
        "    df['roll_std_3']  = df['close'].shift(1).rolling(3, min_periods=1).std(ddof=0).fillna(0)\n",
        "    df['roll_mean_7'] = df['close'].shift(1).rolling(7, min_periods=1).mean()\n",
        "    return df.dropna().reset_index(drop=True)\n",
        "\n",
        "def forecast_rf_recursive(series, h=HORIZON, max_lag=7):\n",
        "    s = pd.Series(series).reset_index(drop=True)\n",
        "    df_all = make_lag_features(s, max_lag=max_lag)\n",
        "    if df_all.shape[0] < 5:\n",
        "        return np.repeat(s.iloc[-1], h).astype(float)\n",
        "    X = df_all.drop(columns=['close']).values\n",
        "    y = df_all['close'].values\n",
        "    model = Ridge(alpha=1.0) if len(y) < 30 else RandomForestRegressor(\n",
        "        n_estimators=400, max_depth=6, random_state=RANDOM_STATE, n_jobs=-1\n",
        "    )\n",
        "    model.fit(X, y)\n",
        "\n",
        "    history = s.tolist()\n",
        "    preds = []\n",
        "    for _ in range(h):\n",
        "        row = {}\n",
        "        for lag in range(1, max_lag+1):\n",
        "            row[f'lag_{lag}'] = history[-lag] if len(history) >= lag else history[0]\n",
        "        temp = pd.Series(history)\n",
        "        row['roll_mean_3'] = temp.shift(1).rolling(3, min_periods=1).mean().iloc[-1]\n",
        "        row['roll_std_3']  = temp.shift(1).rolling(3, min_periods=1).std(ddof=0).iloc[-1]\n",
        "        row['roll_mean_7'] = temp.shift(1).rolling(7, min_periods=1).mean().iloc[-1]\n",
        "        feat_order = [f'lag_{i}' for i in range(1, max_lag+1)] + ['roll_mean_3','roll_std_3','roll_mean_7']\n",
        "        x_row = np.array([row[k] for k in feat_order]).reshape(1, -1)\n",
        "        yhat = model.predict(x_row)[0]\n",
        "        preds.append(float(yhat))\n",
        "        history.append(float(yhat))\n",
        "    return np.array(preds)"
      ]
    },
    {
      "cell_type": "code",
      "execution_count": 7,
      "metadata": {
        "vscode": {
          "languageId": "plaintext"
        },
        "id": "enLGVrOm6ky5"
      },
      "outputs": [],
      "source": [
        "# --- Validation procedure ---\n",
        "\n",
        "def run_validation(hist, horizon=HORIZON):\n",
        "    train_part = hist[:-horizon]\n",
        "    valid_part = hist[-horizon:]\n",
        "\n",
        "    print(f\"Train length: {len(train_part)}, Validation length: {len(valid_part)}\")\n",
        "\n",
        "    ets_pred   = forecast_ets(train_part, h=horizon)\n",
        "    arima_pred = forecast_arima(train_part, h=horizon)\n",
        "    rf_pred    = forecast_rf_recursive(train_part, h=horizon)\n",
        "\n",
        "    ensemble = np.nanmean(np.vstack([ets_pred, arima_pred, rf_pred]), axis=0)\n",
        "\n",
        "    results = {\n",
        "        'ETS': evaluate(valid_part.values, ets_pred),\n",
        "        'ARIMA': evaluate(valid_part.values, arima_pred),\n",
        "        'RF': evaluate(valid_part.values, rf_pred),\n",
        "        'ENSEMBLE': evaluate(valid_part.values, ensemble)\n",
        "    }\n",
        "\n",
        "    # сохраняем предсказания\n",
        "    df_preds = pd.DataFrame({\n",
        "        'ID': np.arange(1, horizon+1),\n",
        "        'actual': valid_part.values,\n",
        "        'ets': ets_pred,\n",
        "        'arima': arima_pred,\n",
        "        'rf': rf_pred,\n",
        "        'ensemble': ensemble\n",
        "    })\n",
        "    df_preds.to_csv(\"validation_preds.csv\", index=False)\n",
        "\n",
        "    return results, df_preds"
      ]
    },
    {
      "cell_type": "code",
      "execution_count": 14,
      "metadata": {
        "vscode": {
          "languageId": "plaintext"
        },
        "colab": {
          "base_uri": "https://localhost:8080/"
        },
        "id": "CYxUMHbJ6ky6",
        "outputId": "04ca042e-66dd-4ee9-9660-2975e89ce33a"
      },
      "outputs": [
        {
          "output_type": "stream",
          "name": "stdout",
          "text": [
            "Train length: 79, Validation length: 13\n",
            "\n",
            "Validation metrics:\n",
            "ETS : RMSE=0.2738, MAE=0.2443, SMAPE=6.6586\n",
            "ARIMA : RMSE=0.5109, MAE=0.4600, SMAPE=12.9800\n",
            "RF : RMSE=0.7164, MAE=0.6684, SMAPE=19.5315\n",
            "ENSEMBLE : RMSE=0.4988, MAE=0.4576, SMAPE=12.9114\n",
            "\n",
            "Saved predictions to validation_preds.csv\n"
          ]
        }
      ],
      "source": [
        "def main(train_path=\"train.csv\", test_path=\"test.csv\"):\n",
        "    train = pd.read_csv(train_path, parse_dates=['dt'])\n",
        "    test  = pd.read_csv(test_path, parse_dates=['dt'])\n",
        "    hist  = pd.concat([train, test], ignore_index=True).sort_values('dt').reset_index(drop=True)\n",
        "    close = hist['close'].astype(float)\n",
        "\n",
        "    results, preds = run_validation(close, horizon=HORIZON)\n",
        "\n",
        "    print(\"\\nValidation metrics:\")\n",
        "    for model, mets in results.items():\n",
        "        print(model, \":\", \", \".join([f\"{k}={v:.4f}\" for k,v in mets.items()]))\n",
        "\n",
        "    print(\"\\nSaved predictions to validation_preds.csv\")\n",
        "\n",
        "if __name__ == \"__main__\":\n",
        "    main()"
      ]
    },
    {
      "cell_type": "code",
      "execution_count": null,
      "metadata": {
        "id": "8i3I0tao6ky7"
      },
      "outputs": [],
      "source": []
    }
  ],
  "metadata": {
    "kernelspec": {
      "display_name": "Python 3",
      "language": "python",
      "name": "python3"
    },
    "language_info": {
      "codemirror_mode": {
        "name": "ipython",
        "version": 3
      },
      "file_extension": ".py",
      "mimetype": "text/x-python",
      "name": "python",
      "nbconvert_exporter": "python",
      "pygments_lexer": "ipython3",
      "version": "3.9.2"
    },
    "colab": {
      "provenance": []
    }
  },
  "nbformat": 4,
  "nbformat_minor": 0
}